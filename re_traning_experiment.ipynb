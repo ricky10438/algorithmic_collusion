{
 "cells": [
  {
   "cell_type": "markdown",
   "metadata": {},
   "source": [
    "# Algorithmic Collusion with Reinforcement Learning: Evaluating Q-learning Robustness in Bertrand Duopoly Contexts"
   ]
  },
  {
   "cell_type": "markdown",
   "metadata": {},
   "source": [
    "# Objective \n",
    "We apply Q-learning to a Bertrand duopoly model with differentiated products to simulate how firms adjust their pricing strategies over time. We measure the ability of these algorithms to achieve collusive outcomes and explore their behavior when transferred to new market contexts."
   ]
  },
  {
   "cell_type": "markdown",
   "metadata": {},
   "source": [
    "## Bertrand Duopoly Implementation "
   ]
  },
  {
   "cell_type": "code",
   "execution_count": 8,
   "metadata": {},
   "outputs": [],
   "source": [
    "import numpy as np\n",
    "import pandas as pd\n",
    "from itertools import product\n",
    "from scipy.optimize import fsolve\n",
    "\n",
    "\n",
    "class model(object):\n",
    "    \"\"\"\n",
    "    model\n",
    "\n",
    "    Attributes\n",
    "    ----------\n",
    "    n : int\n",
    "        number of players\n",
    "    alpha : float\n",
    "        product differentiation parameter\n",
    "    beta : float\n",
    "        exploration parameter\n",
    "    delta : float\n",
    "        discount factor\n",
    "    mu : float\n",
    "        product differentiation parameter\n",
    "    a : int\n",
    "        value of the products\n",
    "    a0 : float\n",
    "        value of the outside option\n",
    "    c : float\n",
    "        marginal cost\n",
    "    k : int\n",
    "        dimension of the grid\n",
    "    stable: int\n",
    "        periods of game stability\n",
    "    \"\"\"\n",
    "\n",
    "    def __init__(self, **kwargs):\n",
    "        \"\"\"Initialize game with default values\"\"\"\n",
    "        # Default properties\n",
    "        self.n = kwargs.get('n', 2)\n",
    "        self.alpha = kwargs.get('alpha', 0.15)\n",
    "        self.beta = kwargs.get('beta', 4e-6)\n",
    "        self.delta = kwargs.get('delta', 0.95)\n",
    "        self.c = kwargs.get('c', 1)\n",
    "        self.a = kwargs.get('a', 2)\n",
    "        self.a0 = kwargs.get('a0', 0)\n",
    "        self.mu = kwargs.get('mu', 0.25)\n",
    "        self.k = kwargs.get('k', 15)\n",
    "        self.tstable = kwargs.get('tstable', 1e5)\n",
    "        self.tmax = kwargs.get('tstable', 1e7)\n",
    "        self.t = 0\n",
    "\n",
    "        # Derived properties\n",
    "        self.sdim, self.s0 = self.init_state()\n",
    "        self.p_minmax = self.compute_p_competitive_monopoly()\n",
    "        self.A = self.init_actions()\n",
    "        self.PI = self.init_PI()\n",
    "        self.Q = kwargs.get('Q', self.init_Q())\n",
    "\n",
    "    def demand(self, p):\n",
    "        \"\"\"Computes demand\"\"\"\n",
    "        e = np.exp((self.a - p) / self.mu)\n",
    "        d = e / (np.sum(e) + np.exp(self.a0 / self.mu))\n",
    "        return d\n",
    "\n",
    "    def foc(self, p):\n",
    "        \"\"\"Compute first order condition\"\"\"\n",
    "        d = self.demand(p)\n",
    "        zero = 1 - (p - self.c) * (1 - d) / self.mu\n",
    "        return np.squeeze(zero)\n",
    "\n",
    "    def foc_monopoly(self, p):\n",
    "        \"\"\"Compute first order condition of a monopolist\"\"\"\n",
    "        d = self.demand(p)\n",
    "        d1 = np.flip(d)\n",
    "        p1 = np.flip(p)\n",
    "        zero = 1 - (p - self.c) * (1 - d) / self.mu + (p1 - self.c) * d1 / self.mu\n",
    "        return np.squeeze(zero)\n",
    "\n",
    "    def compute_p_competitive_monopoly(self):\n",
    "        \"\"\"Computes competitive and monopoly prices\"\"\"\n",
    "        p0 = np.ones((1, self.n)) * 3 * self.c\n",
    "        p_competitive = fsolve(self.foc, p0)\n",
    "        p_monopoly = fsolve(self.foc_monopoly, p0)\n",
    "        return p_competitive, p_monopoly\n",
    "\n",
    "    def init_actions(self):\n",
    "        \"\"\"Get action space of the firms\"\"\"\n",
    "        a = np.linspace(min(self.p_minmax[0]), max(self.p_minmax[1]), self.k - 2)\n",
    "        delta = a[1] - a[0]\n",
    "        A = np.linspace(min(a) - delta, max(a) + delta, self.k)\n",
    "        return A\n",
    "\n",
    "    def init_state(self):\n",
    "        \"\"\"Get state dimension and initial state\"\"\"\n",
    "        sdim = (self.k, self.k)\n",
    "        s0 = np.zeros(len(sdim)).astype(int)\n",
    "        return sdim, s0\n",
    "\n",
    "    def compute_profits(self, p):\n",
    "        \"\"\"Compute payoffs\"\"\"\n",
    "        d = self.demand(p)\n",
    "        pi = (p - self.c) * d\n",
    "        return pi\n",
    "\n",
    "    def init_PI(game):\n",
    "        \"\"\"Initialize Profits (k^n x kp x n)\"\"\"\n",
    "        PI = np.zeros(game.sdim + (game.n,))\n",
    "        for s in product(*[range(i) for i in game.sdim]):\n",
    "            p = np.asarray(game.A[np.asarray(s)])\n",
    "            PI[s] = game.compute_profits(p)\n",
    "        return PI\n",
    "\n",
    "    def init_Q(game):\n",
    "        \"\"\"Initialize Q function (n x #s x k)\"\"\"\n",
    "        Q = np.zeros((game.n,) + game.sdim + (game.k,))\n",
    "        for n in range(game.n):\n",
    "            pi = np.mean(game.PI[:, :, n], axis=1 - n)\n",
    "            Q[n] = np.tile(pi, game.sdim + (1,)) / (1 - game.delta)\n",
    "        return Q"
   ]
  },
  {
   "cell_type": "markdown",
   "metadata": {},
   "source": [
    "## Q-learning Functions"
   ]
  },
  {
   "cell_type": "code",
   "execution_count": 9,
   "metadata": {},
   "outputs": [],
   "source": [
    "import sys\n",
    "import numpy as np\n",
    "\n",
    "\n",
    "def pick_strategies(game, s, t):\n",
    "    \"\"\"Pick strategies by exploration vs exploitation\"\"\"\n",
    "    a = np.zeros(game.n).astype(int)\n",
    "    pr_explore = np.exp(- t * game.beta)\n",
    "    e = (pr_explore > np.random.rand(game.n))\n",
    "    for n in range(game.n):\n",
    "        if e[n]:\n",
    "            a[n] = np.random.randint(0, game.k)\n",
    "        else:\n",
    "            a[n] = np.argmax(game.Q[(n,) + tuple(s)])\n",
    "    return a\n",
    "\n",
    "\n",
    "def update_q(game, s, a, s1, pi, stable):\n",
    "    \"\"\"Update Q matrix\"\"\"\n",
    "    #rememebr to swap to not -1 for normal simulatiojn \n",
    "    for n in range(game.n):\n",
    "        subj_state = (n,) + tuple(s) + (a[n],)\n",
    "        old_value = game.Q[subj_state]\n",
    "        max_q1 = np.max(game.Q[(n,) + tuple(s1)])\n",
    "        new_value = pi[n] + game.delta * max_q1\n",
    "        old_argmax = np.argmax(game.Q[(n,) + tuple(s)])\n",
    "        game.Q[subj_state] = (1 - game.alpha) * old_value + game.alpha * new_value\n",
    "        # Check stability\n",
    "        new_argmax = np.argmax(game.Q[(n,) + tuple(s)])\n",
    "        same_argmax = (old_argmax == new_argmax)\n",
    "        stable = (stable + same_argmax) * same_argmax\n",
    "    return game.Q, stable\n",
    "\n",
    "def update_q_only_one(game, s, a, s1, pi, stable):\n",
    "    \"\"\"Update Q matrix\"\"\"\n",
    "    #rememebr to swap to not -1 for normal simulatiojn \n",
    "    for n in range(game.n-1):\n",
    "        subj_state = (n,) + tuple(s) + (a[n],)\n",
    "        old_value = game.Q[subj_state]\n",
    "        max_q1 = np.max(game.Q[(n,) + tuple(s1)])\n",
    "        new_value = pi[n] + game.delta * max_q1\n",
    "        old_argmax = np.argmax(game.Q[(n,) + tuple(s)])\n",
    "        game.Q[subj_state] = (1 - game.alpha) * old_value + game.alpha * new_value\n",
    "        # Check stability\n",
    "        new_argmax = np.argmax(game.Q[(n,) + tuple(s)])\n",
    "        same_argmax = (old_argmax == new_argmax)\n",
    "        stable = (stable + same_argmax) * same_argmax\n",
    "    return game.Q, stable\n",
    "\n",
    "\n",
    "def check_convergence(game, t, stable):\n",
    "    \"\"\"Check if game converged\"\"\"\n",
    "    if (t % game.tstable == 0) & (t > 0):\n",
    "        sys.stdout.write(\"\\rt=%i\" % t)\n",
    "        sys.stdout.flush()\n",
    "    if stable > game.tstable:\n",
    "        print('Converged!')\n",
    "        return True\n",
    "    if t == game.tmax:\n",
    "        print('ERROR! Not Converged!')\n",
    "        return True\n",
    "    return False\n",
    "\n",
    "\n",
    "def simulate_game(game, only_one = False):\n",
    "    \"\"\"Simulate game\"\"\"\n",
    "    s = game.s0\n",
    "    stable = 0\n",
    "    profits_history = []\n",
    "    actions_history = []\n",
    "    # Iterate until convergence\n",
    "    for t in range(int(game.tmax)):\n",
    "        a = pick_strategies(game, s, t)\n",
    "        pi = game.PI[tuple(a)]\n",
    "        s1 = a\n",
    "        if only_one: \n",
    "            game.Q, stable = update_q_only_one(game, s, a, s1, pi, stable)\n",
    "        else: \n",
    "            game.Q, stable = update_q(game, s, a, s1, pi, stable)\n",
    "        s = s1\n",
    "        actions_history.append(game.A[a])\n",
    "        profits_history.append(pi)\n",
    "        if check_convergence(game, t, stable):\n",
    "            game.t = t\n",
    "            break\n",
    "    \n",
    "    #remeber to then re-adjust other plots to acount for the fact that they are not after the stability period \n",
    "    \n",
    "    #profits_history = profits_history[-int(game.tstable):]\n",
    "    #actions_history = actions_history[-int(game.tstable):]\n",
    "    \n",
    "    return game, profits_history, actions_history, int(game.tstable)\n",
    "\n",
    "\n",
    "def compute_collusion(game, profits_history): \n",
    "    \"\"\"Compute collusion\"\"\"  \n",
    "    competitive, monopoly = game.compute_p_competitive_monopoly()\n",
    "\n",
    "    avg_profit = np.mean(np.mean(profits_history))\n",
    "    \n",
    "    competitive_profit =  game.compute_profits(competitive)[0]\n",
    "    monopoly_profit = game.compute_profits(monopoly)[0]\n",
    "\n",
    "    return np.divide(avg_profit - competitive_profit, monopoly_profit - competitive_profit)\n",
    "    "
   ]
  },
  {
   "cell_type": "code",
   "execution_count": null,
   "metadata": {},
   "outputs": [],
   "source": [
    "# Init algorithm\n",
    "game_low = model(c=1)\n",
    "\n",
    "# Compute equilibrium\n",
    "game_equilibrium_low, profit_history_low, price_history_low, stability_low = simulate_game(game_low)\n"
   ]
  },
  {
   "cell_type": "markdown",
   "metadata": {},
   "source": [
    "## Training the algorithms in the first context"
   ]
  },
  {
   "cell_type": "code",
   "execution_count": null,
   "metadata": {},
   "outputs": [],
   "source": [
    "price_history_low[-10::]"
   ]
  },
  {
   "cell_type": "code",
   "execution_count": null,
   "metadata": {},
   "outputs": [],
   "source": [
    "game_high = model(c=1.7)\n",
    "game_equilibrium_high, profit_history_high, price_history_high, stability_high = simulate_game(game_high)"
   ]
  },
  {
   "cell_type": "code",
   "execution_count": null,
   "metadata": {},
   "outputs": [],
   "source": [
    "profit_history_low_adj = profit_history_low[-stability_low:]\n",
    "profit_history_high_adj = profit_history_high[-stability_high:]"
   ]
  },
  {
   "cell_type": "code",
   "execution_count": null,
   "metadata": {},
   "outputs": [],
   "source": [
    "collusion_low = compute_collusion(game_equilibrium_low, profit_history_low_adj)"
   ]
  },
  {
   "cell_type": "code",
   "execution_count": null,
   "metadata": {},
   "outputs": [],
   "source": [
    "collusion_low"
   ]
  },
  {
   "cell_type": "code",
   "execution_count": null,
   "metadata": {},
   "outputs": [],
   "source": [
    "collusion_high = compute_collusion(game_equilibrium_high, profit_history_high_adj)"
   ]
  },
  {
   "cell_type": "code",
   "execution_count": null,
   "metadata": {},
   "outputs": [],
   "source": [
    "collusion_high"
   ]
  },
  {
   "cell_type": "code",
   "execution_count": null,
   "metadata": {},
   "outputs": [],
   "source": [
    "profit_history_high[-30::]"
   ]
  },
  {
   "cell_type": "markdown",
   "metadata": {},
   "source": [
    "## Setting up the re-training second context"
   ]
  },
  {
   "cell_type": "code",
   "execution_count": null,
   "metadata": {},
   "outputs": [],
   "source": [
    "game_equilibrium_high.Q.shape"
   ]
  },
  {
   "cell_type": "code",
   "execution_count": null,
   "metadata": {},
   "outputs": [],
   "source": [
    "Q_matrix_for_retraining = np.stack((game_equilibrium_low.Q[0], game_equilibrium_high.Q[0]))"
   ]
  },
  {
   "cell_type": "code",
   "execution_count": null,
   "metadata": {},
   "outputs": [],
   "source": [
    "Q_matrix_for_retraining.shape"
   ]
  },
  {
   "cell_type": "code",
   "execution_count": null,
   "metadata": {},
   "outputs": [],
   "source": [
    "game_low_in_high = model(Q = Q_matrix_for_retraining, c=1.7)\n",
    "game_equilibrium_low_in_high, profit_history_low_in_high, price_history_low_in_high, stability_low_in_high = simulate_game(game_low_in_high, only_one=True)"
   ]
  },
  {
   "cell_type": "code",
   "execution_count": null,
   "metadata": {},
   "outputs": [],
   "source": [
    "profit_history_low_in_high_adj = profit_history_high[-stability_low_in_high:]\n",
    "collusion_low_in_high = compute_collusion(game_low_in_high, profit_history_low_in_high_adj)"
   ]
  },
  {
   "cell_type": "code",
   "execution_count": null,
   "metadata": {},
   "outputs": [],
   "source": [
    "profit_history_low_in_high_adj[-10:]"
   ]
  },
  {
   "cell_type": "code",
   "execution_count": null,
   "metadata": {},
   "outputs": [],
   "source": [
    "avg_profit = np.mean(np.mean(profit_history_low_in_high_adj))"
   ]
  },
  {
   "cell_type": "code",
   "execution_count": null,
   "metadata": {},
   "outputs": [],
   "source": [
    "avg_profit"
   ]
  },
  {
   "cell_type": "code",
   "execution_count": null,
   "metadata": {},
   "outputs": [],
   "source": [
    "collusion_low_in_high"
   ]
  },
  {
   "cell_type": "code",
   "execution_count": null,
   "metadata": {},
   "outputs": [],
   "source": [
    "competitive, monopoly = game_equilibrium_low_in_high.compute_p_competitive_monopoly()\n",
    "competitive_profit_low_in_high =  game_equilibrium_low_in_high.compute_profits(competitive)[0]\n",
    "monopoly_profit_low_in_high = game_equilibrium_low_in_high.compute_profits(monopoly)[0]\n",
    "\n",
    "competitive, monopoly = game_equilibrium_low.compute_p_competitive_monopoly()\n",
    "competitive_profit_low =  game_equilibrium_low.compute_profits(competitive)[0]\n",
    "monopoly_profit_low = game_equilibrium_low.compute_profits(monopoly)[0]\n",
    "\n",
    "competitive, monopoly = game_equilibrium_high.compute_p_competitive_monopoly()\n",
    "competitive_profit_high =  game_equilibrium_high.compute_profits(competitive)[0]\n",
    "monopoly_profit_high = game_equilibrium_high.compute_profits(monopoly)[0]"
   ]
  },
  {
   "cell_type": "code",
   "execution_count": null,
   "metadata": {},
   "outputs": [],
   "source": [
    "len(profit_history_low_in_high)"
   ]
  },
  {
   "cell_type": "code",
   "execution_count": null,
   "metadata": {},
   "outputs": [],
   "source": [
    "df_profit_history_low_in_high = pd.DataFrame(profit_history_low_in_high, columns=['firm_1', 'firm_2'])\n",
    "df_profit_history_low = pd.DataFrame(profit_history_low, columns=['firm_1', 'firm_2'])\n",
    "df_profit_history_high = pd.DataFrame(profit_history_high, columns=['firm_1', 'firm_2'])"
   ]
  },
  {
   "cell_type": "code",
   "execution_count": null,
   "metadata": {},
   "outputs": [],
   "source": [
    "import matplotlib.pyplot as plt\n",
    "\n",
    "window_size = 50000\n",
    "\n",
    "# Calculate the moving average for each firm\n",
    "df_profit_history_low_in_high['firm_1_MA'] = df_profit_history_low_in_high['firm_1'].rolling(window=window_size).mean()\n",
    "df_profit_history_low_in_high['firm_2_MA'] = df_profit_history_low_in_high['firm_2'].rolling(window=window_size).mean()\n",
    "\n",
    "# Plot the moving averages\n",
    "plt.figure(figsize=(14, 7))\n",
    "plt.plot(df_profit_history_low_in_high['firm_1_MA'], label='Firm 1 Moving Average')\n",
    "plt.plot(df_profit_history_low_in_high['firm_2_MA'], label='Firm 2 Moving Average')\n",
    "plt.title('Moving Average of Profits for Firm 1 and Firm 2')\n",
    "competitive_constant, monopoly_constant = game_equilibrium_low_in_high.p_minmax\n",
    "plt.axhline(y=competitive_profit_low_in_high, color='r', linestyle='--', label='Competitive')\n",
    "plt.axhline(y=monopoly_profit_low_in_high, color='g', linestyle='--', label='Monopoly')\n",
    "plt.axvline(x=2700000-stability_low_in_high, color='b', linestyle='--', label='Stability Low in High')\n",
    "plt.xlabel('Time')\n",
    "plt.ylabel('profit')\n",
    "plt.legend()\n",
    "plt.show()"
   ]
  },
  {
   "cell_type": "code",
   "execution_count": null,
   "metadata": {},
   "outputs": [],
   "source": [
    "import matplotlib.pyplot as plt\n",
    "\n",
    "window_size = 50000\n",
    "\n",
    "# Calculate the moving average for each firm\n",
    "df_profit_history_low['firm_1_MA'] = df_profit_history_low['firm_1'].rolling(window=window_size).mean()\n",
    "df_profit_history_low['firm_2_MA'] = df_profit_history_low['firm_2'].rolling(window=window_size).mean()\n",
    "\n",
    "# Plot the moving averages\n",
    "plt.figure(figsize=(14, 7))\n",
    "plt.plot(df_profit_history_low['firm_1_MA'], label='Firm 1 Moving Average')\n",
    "plt.plot(df_profit_history_low['firm_2_MA'], label='Firm 2 Moving Average')\n",
    "plt.title('Moving Average of Profits for Firm 1 and Firm 2')\n",
    "competitive_constant, monopoly_constant = game_equilibrium_low.p_minmax\n",
    "plt.axhline(y=competitive_profit_low, color='r', linestyle='--', label='Competitive')\n",
    "plt.axhline(y=monopoly_profit_low, color='g', linestyle='--', label='Monopoly')\n",
    "plt.xlabel('Time')\n",
    "plt.ylabel('profit')\n",
    "plt.legend()\n",
    "plt.show()"
   ]
  },
  {
   "cell_type": "code",
   "execution_count": null,
   "metadata": {},
   "outputs": [],
   "source": [
    "df_profit_history_high.tail()"
   ]
  },
  {
   "cell_type": "code",
   "execution_count": null,
   "metadata": {},
   "outputs": [],
   "source": [
    "import matplotlib.pyplot as plt\n",
    "\n",
    "window_size = 50000\n",
    "\n",
    "# Calculate the moving average for each firm\n",
    "df_profit_history_high['firm_1_MA'] = df_profit_history_high['firm_1'].rolling(window=window_size).mean()\n",
    "df_profit_history_high['firm_2_MA'] = df_profit_history_high['firm_2'].rolling(window=window_size).mean()\n",
    "\n",
    "# Plot the moving averages\n",
    "plt.figure(figsize=(14, 7))\n",
    "plt.plot(df_profit_history_high['firm_1_MA'], label='Firm 1 Moving Average')\n",
    "plt.plot(df_profit_history_high['firm_2_MA'], label='Firm 2 Moving Average')\n",
    "plt.title('Moving Average of Profits for Firm 1 and Firm 2')\n",
    "competitive_constant, monopoly_constant = game_equilibrium_high.p_minmax\n",
    "plt.axhline(y=competitive_profit_high, color='r', linestyle='--', label='Competitive')\n",
    "plt.axhline(y=monopoly_profit_high, color='g', linestyle='--', label='Monopoly')\n",
    "plt.xlabel('Time')\n",
    "plt.ylabel('Profit')\n",
    "plt.legend()\n",
    "plt.show()"
   ]
  },
  {
   "cell_type": "markdown",
   "metadata": {},
   "source": [
    "## Running the simulation for the merged context "
   ]
  },
  {
   "cell_type": "code",
   "execution_count": 4,
   "metadata": {},
   "outputs": [
    {
     "name": "stdout",
     "output_type": "stream",
     "text": [
      "t=1400000Converged!\n",
      "t=1800000Converged!\n",
      "t=2300000Converged!\n",
      "t=1800000Converged!\n",
      "t=2100000Converged!\n",
      "t=2900000Converged!\n",
      "   time_convergence_low  time_convergence_high  time_convergence_low_in_high  \\\n",
      "0               1837697                2115143                       2922499   \n",
      "\n",
      "   collusion_index_low  collusion_index_high  collusion_index_low_in_high  \n",
      "0             0.972265              0.822591                     0.569401  \n"
     ]
    }
   ],
   "source": [
    "import numpy as np\n",
    "import pandas as pd\n",
    "import time\n",
    "\n",
    "def run_simulation():\n",
    "    # Low-cost game\n",
    "    game_low = model(c=1)\n",
    "    game_equilibrium_low, profit_history_low, price_history_low, stability_low = simulate_game(game_low)\n",
    "    \n",
    "    # High-cost game\n",
    "    game_high = model(c=1.7)\n",
    "    game_equilibrium_high, profit_history_high, price_history_high, stability_high = simulate_game(game_high)\n",
    "    \n",
    "    # Low-in-high game\n",
    "    Q_matrix_for_retraining = np.stack((game_equilibrium_low.Q[0], game_equilibrium_high.Q[0]))\n",
    "    game_low_in_high = model(Q=Q_matrix_for_retraining, c=1.7)\n",
    "    game_equilibrium_low_in_high, profit_history_low_in_high, price_history_low_in_high, stability_low_in_high = simulate_game(game_low_in_high, only_one=True)\n",
    "    \n",
    "    # Adjust profit history\n",
    "    profit_history_low_adj = profit_history_low[-stability_low:]\n",
    "    profit_history_high_adj = profit_history_high[-stability_high:]\n",
    "    profit_history_low_in_high_adj = profit_history_low_in_high[-stability_low_in_high:]\n",
    "    \n",
    "    # Compute collusion indices\n",
    "    collusion_low = compute_collusion(game_equilibrium_low, profit_history_low_adj)\n",
    "    collusion_high = compute_collusion(game_equilibrium_high, profit_history_high_adj)\n",
    "    collusion_low_in_high = compute_collusion(game_low_in_high, profit_history_low_in_high_adj)\n",
    "    \n",
    "    # Collect time convergence\n",
    "    time_convergence_low = game_equilibrium_low.t\n",
    "    time_convergence_high = game_equilibrium_high.t\n",
    "    time_convergence_low_in_high = game_equilibrium_low_in_high.t\n",
    "    \n",
    "    return {\n",
    "        \"time_convergence_low\": time_convergence_low,\n",
    "        \"time_convergence_high\": time_convergence_high,\n",
    "        \"time_convergence_low_in_high\": time_convergence_low_in_high,\n",
    "        \"collusion_index_low\": collusion_low,\n",
    "        \"collusion_index_high\": collusion_high,\n",
    "        \"collusion_index_low_in_high\": collusion_low_in_high\n",
    "    }\n",
    "\n",
    "# Measure the time taken for one simulation run\n",
    "start_time = time.time()\n",
    "run_simulation()\n",
    "end_time = time.time()\n",
    "time_per_simulation = end_time - start_time\n",
    "\n",
    "# Total time for simulations (8 hours)\n",
    "total_time = 8 * 60 * 60\n",
    "\n",
    "# Number of iterations possible in 8 hours\n",
    "num_iterations = int(total_time / time_per_simulation)\n",
    "\n",
    "# Create a DataFrame to store results\n",
    "results = []\n",
    "\n",
    "# Run the simulation for the determined number of iterations\n",
    "for _ in range(num_iterations):\n",
    "    result = run_simulation()\n",
    "    results.append(result)\n",
    "\n",
    "# Convert results to a DataFrame\n",
    "df_results = pd.DataFrame(results)\n",
    "\n",
    "# Display the results DataFrame\n",
    "print(df_results)\n",
    "\n",
    "# Optionally save the results to a CSV file\n",
    "df_results.to_csv(\"simulation_results.csv\", index=False)\n"
   ]
  },
  {
   "cell_type": "markdown",
   "metadata": {},
   "source": [
    "## Computing summary statistics of the simulation results "
   ]
  },
  {
   "cell_type": "code",
   "execution_count": 4,
   "metadata": {},
   "outputs": [],
   "source": [
    "df_results = pd.read_csv('simulation_results.csv')"
   ]
  },
  {
   "cell_type": "code",
   "execution_count": 5,
   "metadata": {},
   "outputs": [],
   "source": [
    "correlation_matrix = df_results[['collusion_index_low', 'collusion_index_high', 'collusion_index_low_in_high']].corr()"
   ]
  },
  {
   "cell_type": "code",
   "execution_count": 6,
   "metadata": {},
   "outputs": [
    {
     "data": {
      "text/html": [
       "<div>\n",
       "<style scoped>\n",
       "    .dataframe tbody tr th:only-of-type {\n",
       "        vertical-align: middle;\n",
       "    }\n",
       "\n",
       "    .dataframe tbody tr th {\n",
       "        vertical-align: top;\n",
       "    }\n",
       "\n",
       "    .dataframe thead th {\n",
       "        text-align: right;\n",
       "    }\n",
       "</style>\n",
       "<table border=\"1\" class=\"dataframe\">\n",
       "  <thead>\n",
       "    <tr style=\"text-align: right;\">\n",
       "      <th></th>\n",
       "      <th>collusion_index_low</th>\n",
       "      <th>collusion_index_high</th>\n",
       "      <th>collusion_index_low_in_high</th>\n",
       "    </tr>\n",
       "  </thead>\n",
       "  <tbody>\n",
       "    <tr>\n",
       "      <th>collusion_index_low</th>\n",
       "      <td>1.000000</td>\n",
       "      <td>0.075064</td>\n",
       "      <td>-0.129862</td>\n",
       "    </tr>\n",
       "    <tr>\n",
       "      <th>collusion_index_high</th>\n",
       "      <td>0.075064</td>\n",
       "      <td>1.000000</td>\n",
       "      <td>-0.041534</td>\n",
       "    </tr>\n",
       "    <tr>\n",
       "      <th>collusion_index_low_in_high</th>\n",
       "      <td>-0.129862</td>\n",
       "      <td>-0.041534</td>\n",
       "      <td>1.000000</td>\n",
       "    </tr>\n",
       "  </tbody>\n",
       "</table>\n",
       "</div>"
      ],
      "text/plain": [
       "                             collusion_index_low  collusion_index_high  \\\n",
       "collusion_index_low                     1.000000              0.075064   \n",
       "collusion_index_high                    0.075064              1.000000   \n",
       "collusion_index_low_in_high            -0.129862             -0.041534   \n",
       "\n",
       "                             collusion_index_low_in_high  \n",
       "collusion_index_low                            -0.129862  \n",
       "collusion_index_high                           -0.041534  \n",
       "collusion_index_low_in_high                     1.000000  "
      ]
     },
     "execution_count": 6,
     "metadata": {},
     "output_type": "execute_result"
    }
   ],
   "source": [
    "correlation_matrix"
   ]
  },
  {
   "cell_type": "code",
   "execution_count": 7,
   "metadata": {},
   "outputs": [
    {
     "data": {
      "text/html": [
       "<div>\n",
       "<style scoped>\n",
       "    .dataframe tbody tr th:only-of-type {\n",
       "        vertical-align: middle;\n",
       "    }\n",
       "\n",
       "    .dataframe tbody tr th {\n",
       "        vertical-align: top;\n",
       "    }\n",
       "\n",
       "    .dataframe thead th {\n",
       "        text-align: right;\n",
       "    }\n",
       "</style>\n",
       "<table border=\"1\" class=\"dataframe\">\n",
       "  <thead>\n",
       "    <tr style=\"text-align: right;\">\n",
       "      <th></th>\n",
       "      <th>time_convergence_low</th>\n",
       "      <th>time_convergence_high</th>\n",
       "      <th>time_convergence_low_in_high</th>\n",
       "      <th>collusion_index_low</th>\n",
       "      <th>collusion_index_high</th>\n",
       "      <th>collusion_index_low_in_high</th>\n",
       "    </tr>\n",
       "  </thead>\n",
       "  <tbody>\n",
       "    <tr>\n",
       "      <th>count</th>\n",
       "      <td>1.260000e+02</td>\n",
       "      <td>1.260000e+02</td>\n",
       "      <td>1.260000e+02</td>\n",
       "      <td>126.000000</td>\n",
       "      <td>126.000000</td>\n",
       "      <td>126.000000</td>\n",
       "    </tr>\n",
       "    <tr>\n",
       "      <th>mean</th>\n",
       "      <td>1.562267e+06</td>\n",
       "      <td>1.781602e+06</td>\n",
       "      <td>2.662635e+06</td>\n",
       "      <td>0.853285</td>\n",
       "      <td>0.858347</td>\n",
       "      <td>0.681650</td>\n",
       "    </tr>\n",
       "    <tr>\n",
       "      <th>std</th>\n",
       "      <td>2.258998e+05</td>\n",
       "      <td>3.397535e+05</td>\n",
       "      <td>2.104934e+05</td>\n",
       "      <td>0.095447</td>\n",
       "      <td>0.100184</td>\n",
       "      <td>0.175802</td>\n",
       "    </tr>\n",
       "    <tr>\n",
       "      <th>min</th>\n",
       "      <td>1.077309e+06</td>\n",
       "      <td>1.320025e+06</td>\n",
       "      <td>2.005295e+06</td>\n",
       "      <td>0.591781</td>\n",
       "      <td>0.429553</td>\n",
       "      <td>0.263721</td>\n",
       "    </tr>\n",
       "    <tr>\n",
       "      <th>25%</th>\n",
       "      <td>1.416074e+06</td>\n",
       "      <td>1.554930e+06</td>\n",
       "      <td>2.532451e+06</td>\n",
       "      <td>0.785509</td>\n",
       "      <td>0.793214</td>\n",
       "      <td>0.560893</td>\n",
       "    </tr>\n",
       "    <tr>\n",
       "      <th>50%</th>\n",
       "      <td>1.526637e+06</td>\n",
       "      <td>1.662913e+06</td>\n",
       "      <td>2.690010e+06</td>\n",
       "      <td>0.868382</td>\n",
       "      <td>0.881412</td>\n",
       "      <td>0.673755</td>\n",
       "    </tr>\n",
       "    <tr>\n",
       "      <th>75%</th>\n",
       "      <td>1.670714e+06</td>\n",
       "      <td>1.945738e+06</td>\n",
       "      <td>2.790596e+06</td>\n",
       "      <td>0.933228</td>\n",
       "      <td>0.931288</td>\n",
       "      <td>0.818656</td>\n",
       "    </tr>\n",
       "    <tr>\n",
       "      <th>max</th>\n",
       "      <td>2.413860e+06</td>\n",
       "      <td>2.763098e+06</td>\n",
       "      <td>3.184193e+06</td>\n",
       "      <td>0.990218</td>\n",
       "      <td>0.992108</td>\n",
       "      <td>0.993455</td>\n",
       "    </tr>\n",
       "  </tbody>\n",
       "</table>\n",
       "</div>"
      ],
      "text/plain": [
       "       time_convergence_low  time_convergence_high  \\\n",
       "count          1.260000e+02           1.260000e+02   \n",
       "mean           1.562267e+06           1.781602e+06   \n",
       "std            2.258998e+05           3.397535e+05   \n",
       "min            1.077309e+06           1.320025e+06   \n",
       "25%            1.416074e+06           1.554930e+06   \n",
       "50%            1.526637e+06           1.662913e+06   \n",
       "75%            1.670714e+06           1.945738e+06   \n",
       "max            2.413860e+06           2.763098e+06   \n",
       "\n",
       "       time_convergence_low_in_high  collusion_index_low  \\\n",
       "count                  1.260000e+02           126.000000   \n",
       "mean                   2.662635e+06             0.853285   \n",
       "std                    2.104934e+05             0.095447   \n",
       "min                    2.005295e+06             0.591781   \n",
       "25%                    2.532451e+06             0.785509   \n",
       "50%                    2.690010e+06             0.868382   \n",
       "75%                    2.790596e+06             0.933228   \n",
       "max                    3.184193e+06             0.990218   \n",
       "\n",
       "       collusion_index_high  collusion_index_low_in_high  \n",
       "count            126.000000                   126.000000  \n",
       "mean               0.858347                     0.681650  \n",
       "std                0.100184                     0.175802  \n",
       "min                0.429553                     0.263721  \n",
       "25%                0.793214                     0.560893  \n",
       "50%                0.881412                     0.673755  \n",
       "75%                0.931288                     0.818656  \n",
       "max                0.992108                     0.993455  "
      ]
     },
     "execution_count": 7,
     "metadata": {},
     "output_type": "execute_result"
    }
   ],
   "source": [
    "df_results.describe()"
   ]
  }
 ],
 "metadata": {
  "kernelspec": {
   "display_name": "Python 3 (ipykernel)",
   "language": "python",
   "name": "python3"
  },
  "language_info": {
   "codemirror_mode": {
    "name": "ipython",
    "version": 3
   },
   "file_extension": ".py",
   "mimetype": "text/x-python",
   "name": "python",
   "nbconvert_exporter": "python",
   "pygments_lexer": "ipython3",
   "version": "3.11.8"
  }
 },
 "nbformat": 4,
 "nbformat_minor": 4
}
